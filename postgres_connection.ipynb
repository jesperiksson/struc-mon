{
 "cells": [
  {
   "cell_type": "code",
   "execution_count": 1,
   "metadata": {},
   "outputs": [],
   "source": [
    "import os\n",
    "import tensorflow_io as tfio\n",
    "import pandas as pd\n",
    "from sqlalchemy import create_engine\n",
    "import datetime"
   ]
  },
  {
   "cell_type": "code",
   "execution_count": 2,
   "metadata": {},
   "outputs": [
    {
     "name": "stdout",
     "output_type": "stream",
     "text": [
      "env: TFIO_GOST_DATABASE_NAME=gost\n",
      "env: TFIO_GOST_DATABASE_HOST=127.0.0.1:5050\n",
      "env: TFIO_GOST_DATABASE_PORT=5432\n",
      "env: TFIO_GOST_DATABASE_USER=postgres\n",
      "env: TFIO_GOST_DATABASE_PASS=postgres\n",
      "env: SQLA_GOST_DATABASE_NAME=gost\n",
      "env: SQLA_GOST_DATABASE_HOST=localhost\n",
      "env: SQLA_GOST_DATABASE_PORT=5432\n",
      "env: SQLA_GOST_DATABASE_USER=postgres\n",
      "env: SQLA_GOST_DATABASE_PASS=postgres\n"
     ]
    }
   ],
   "source": [
    "%env TFIO_GOST_DATABASE_NAME=gost\n",
    "%env TFIO_GOST_DATABASE_HOST=127.0.0.1:5050\n",
    "%env TFIO_GOST_DATABASE_PORT=5432\n",
    "%env TFIO_GOST_DATABASE_USER=postgres\n",
    "%env TFIO_GOST_DATABASE_PASS=postgres\n",
    "\n",
    "%env SQLA_GOST_DATABASE_NAME=gost\n",
    "%env SQLA_GOST_DATABASE_HOST=localhost\n",
    "%env SQLA_GOST_DATABASE_PORT=5432\n",
    "%env SQLA_GOST_DATABASE_USER=postgres\n",
    "%env SQLA_GOST_DATABASE_PASS=postgres"
   ]
  },
  {
   "cell_type": "code",
   "execution_count": null,
   "metadata": {},
   "outputs": [],
   "source": [
    "# TFIO connection\n",
    "endpoint=\"postgresql://{}:{}@{}?port={}&dbname={}\".format(\n",
    "    os.environ['TFIO_GOST_DATABASE_USER'],\n",
    "    os.environ['TFIO_GOST_DATABASE_PASS'],\n",
    "    os.environ['TFIO_GOST_DATABASE_HOST'],\n",
    "    os.environ['TFIO_GOST_DATABASE_PORT'],\n",
    "    os.environ['TFIO_GOST_DATABASE_NAME'],\n",
    ")"
   ]
  },
  {
   "cell_type": "code",
   "execution_count": 3,
   "metadata": {},
   "outputs": [],
   "source": [
    "# SQLAlchemy + psycopg2 connection\n",
    "sqla_endpoint =\"postgresql+psycopg2://{}:{}@{}:{}/{}\".format(\n",
    "    os.environ['SQLA_GOST_DATABASE_USER'],\n",
    "    os.environ['SQLA_GOST_DATABASE_PASS'],\n",
    "    os.environ['SQLA_GOST_DATABASE_HOST'],\n",
    "    os.environ['SQLA_GOST_DATABASE_PORT'],\n",
    "    os.environ['SQLA_GOST_DATABASE_NAME'],\n",
    ")\n",
    "engine = create_engine(sqla_endpoint)"
   ]
  },
  {
   "cell_type": "code",
   "execution_count": 4,
   "metadata": {},
   "outputs": [],
   "source": [
    "class Config():\n",
    "    def __init__(self):\n",
    "        table_names = {\n",
    "            'strain1' : 'sensor_00158d00000e0ee5',\n",
    "            'acc1' : 'sensor_00158d00000e0fe9',\n",
    "            'acc2' : 'sensor_00158d00000e054c',\n",
    "            'incl' : 'sensor_00158d00000e1024',\n",
    "            'temp' : 'sensor_00158d00000e047b',\n",
    "            'strain2': 'sensor_000000008bff436'\n",
    "        }\n",
    "        self.table_names = table_names\n",
    "        \n",
    "        self.column_names = {\n",
    "            table_names['strain1'] : ['id','ts','ch_mv0','ch_mv1','ch_mv2','ch_mv3'],\n",
    "            table_names['acc1'] : ['id','ts','ch_x','ch_y','ch_z'],\n",
    "            table_names['acc2'] : ['id','ts','ch_x','ch_y','ch_z'],\n",
    "            table_names['incl'] : ['id','ts','ch_x','ch_y'],\n",
    "            table_names['temp'] : ['id','ts','ch_temperature'],\n",
    "            table_names['strain2'] : ['id','ts','ch_mv0','ch_mv0_379']\n",
    "        }\n",
    "\n",
    "        self.schema = 'v1'        "
   ]
  },
  {
   "cell_type": "code",
   "execution_count": 5,
   "metadata": {},
   "outputs": [],
   "source": [
    "class Settings():\n",
    "    def __init__(self):\n",
    "        self.sensors = ['acc1','acc2','incl']\n",
    "        self.n_samples = 10\n",
    "        self.start_date = datetime.datetime(2020,10,27)\n",
    "        self.end_date = datetime.datetime(2020,10,28)"
   ]
  },
  {
   "cell_type": "code",
   "execution_count": 6,
   "metadata": {},
   "outputs": [],
   "source": [
    "config = Config()\n",
    "settings = Settings()"
   ]
  },
  {
   "cell_type": "code",
   "execution_count": 7,
   "metadata": {},
   "outputs": [],
   "source": [
    "def generate_select():\n",
    "    select_command = ''\n",
    "    for sensor in settings.sensors:\n",
    "        table = config.table_names[sensor]\n",
    "        for column in config.column_names[table]:\n",
    "            select_command+=config.schema+'.'+table+'.'+column+' ,' \n",
    "    return select_command[:-1]\n",
    "\n",
    "def generate_where_id():\n",
    "    where_clause = f\"{config.schema}.{config.table_names[settings.sensors[0]]}.id < {settings.n_samples}\"\n",
    "    return where_clause\n",
    "\n",
    "def generate_where():\n",
    "    where_clause = f\"{config.schema}.{config.table_names[settings.sensors[0]]}.ts BETWEEN \\'{parse_date(settings.start_date)}\\' AND \\'{parse_date(settings.end_date)}\\' \"\n",
    "    return where_clause\n",
    "\n",
    "def generate_and():\n",
    "    and_clause = ''\n",
    "    if len(settings.sensors)>1:\n",
    "        for i in range(len(settings.sensors)-1):\n",
    "            and_clause += f\"AND {config.schema}.{config.table_names[settings.sensors[0]]}.ts = {config.schema}.{config.table_names[settings.sensors[i+1]]}.ts \"\n",
    "            # ts ensures integrity in data\n",
    "    return and_clause\n",
    "\n",
    "def parse_date(date):\n",
    "    \n",
    "    return str(date)\n",
    "\n",
    "def generate_query():\n",
    "    query = ''\n",
    "    query += f\"SELECT {generate_select()}\"\n",
    "    query += f\"FROM {config.schema}.{(', '+config.schema+'.').join([config.table_names[sensor] for sensor in settings.sensors])} \"\n",
    "    query += f\"WHERE {generate_where()}\"\n",
    "    query += generate_and()\n",
    "    return query\n",
    "\n"
   ]
  },
  {
   "cell_type": "code",
   "execution_count": null,
   "metadata": {},
   "outputs": [],
   "source": [
    "query = 'SELECT strain.ch_mv0, strain.id FROM v1.sensor_000000008bff43b6 strain WHERE strain.id < 10'"
   ]
  },
  {
   "cell_type": "code",
   "execution_count": null,
   "metadata": {},
   "outputs": [],
   "source": [
    "query =f\"SELECT v1.sensor_00158d00000e0fe9.id AS qwe,v1.sensor_00158d00000e0fe9.ts ,v1.sensor_00158d00000e0fe9.ch_x ,v1.sensor_00158d00000e0fe9.ch_y ,v1.sensor_00158d00000e0fe9.ch_z ,v1.sensor_00158d00000e054c.id ,v1.sensor_00158d00000e054c.ts ,v1.sensor_00158d00000e054c.ch_x ,v1.sensor_00158d00000e054c.ch_y ,v1.sensor_00158d00000e054c.ch_z FROM v1.sensor_00158d00000e0fe9, v1.sensor_00158d00000e054c WHERE v1.sensor_00158d00000e0fe9.id < 10 AND v1.sensor_00158d00000e0fe9.id = v1.sensor_00158d00000e054c.id \""
   ]
  },
  {
   "cell_type": "code",
   "execution_count": 8,
   "metadata": {},
   "outputs": [
    {
     "data": {
      "text/plain": [
       "\"SELECT v1.sensor_00158d00000e0fe9.id ,v1.sensor_00158d00000e0fe9.ts ,v1.sensor_00158d00000e0fe9.ch_x ,v1.sensor_00158d00000e0fe9.ch_y ,v1.sensor_00158d00000e0fe9.ch_z ,v1.sensor_00158d00000e054c.id ,v1.sensor_00158d00000e054c.ts ,v1.sensor_00158d00000e054c.ch_x ,v1.sensor_00158d00000e054c.ch_y ,v1.sensor_00158d00000e054c.ch_z ,v1.sensor_00158d00000e1024.id ,v1.sensor_00158d00000e1024.ts ,v1.sensor_00158d00000e1024.ch_x ,v1.sensor_00158d00000e1024.ch_y FROM v1.sensor_00158d00000e0fe9, v1.sensor_00158d00000e054c, v1.sensor_00158d00000e1024 WHERE v1.sensor_00158d00000e0fe9.ts BETWEEN '2020-10-27 00:00:00' AND '2020-10-28 00:00:00' AND v1.sensor_00158d00000e0fe9.ts = v1.sensor_00158d00000e054c.ts AND v1.sensor_00158d00000e0fe9.ts = v1.sensor_00158d00000e1024.ts \""
      ]
     },
     "execution_count": 8,
     "metadata": {},
     "output_type": "execute_result"
    }
   ],
   "source": [
    "generate_query()"
   ]
  },
  {
   "cell_type": "code",
   "execution_count": null,
   "metadata": {},
   "outputs": [],
   "source": [
    "dataset = tfio.experimental.IODataset.from_sql(\n",
    "    query = query,\n",
    "    endpoint = endpoint\n",
    ")\n",
    "\n",
    "print(dataset.element_spec)"
   ]
  },
  {
   "cell_type": "code",
   "execution_count": null,
   "metadata": {},
   "outputs": [],
   "source": [
    "df = pd.read_sql_table(\n",
    "    table_name = 'sensor_00158d00000e0fe9',\n",
    "    con = sqla_endpoint,\n",
    "    schema = 'v1',\n",
    "    index_col = 'id',\n",
    "    parse_dates = 'ts',\n",
    "    columns = ['ch_x','ch_y']\n",
    ")"
   ]
  },
  {
   "cell_type": "code",
   "execution_count": 9,
   "metadata": {},
   "outputs": [],
   "source": [
    "df = pd.read_sql_query(\n",
    "    sql = generate_query(),\n",
    "    con = sqla_endpoint,\n",
    "    parse_dates = 'ts'\n",
    ")"
   ]
  },
  {
   "cell_type": "code",
   "execution_count": 10,
   "metadata": {
    "scrolled": true
   },
   "outputs": [
    {
     "name": "stdout",
     "output_type": "stream",
     "text": [
      "          id                         ts     ch_x     ch_y     ch_z     id  \\\n",
      "0        133 2020-10-27 07:59:58.000000  0.08004  0.37594  0.92080  17866   \n",
      "1        134 2020-10-27 07:59:58.030303  0.07784  0.37548  0.92148  17867   \n",
      "2        135 2020-10-27 07:59:58.060606  0.07776  0.37532  0.92095  17868   \n",
      "3        136 2020-10-27 07:59:58.090909  0.07996  0.37594  0.91966  17869   \n",
      "4        137 2020-10-27 07:59:58.121212  0.07768  0.37601  0.92239  17870   \n",
      "...      ...                        ...      ...      ...      ...    ...   \n",
      "73538  78570 2020-10-27 23:59:59.878788  0.07867  0.37563  0.92209  96438   \n",
      "73539  78571 2020-10-27 23:59:59.909091  0.07761  0.37510  0.92178  96439   \n",
      "73540  78572 2020-10-27 23:59:59.939394  0.07966  0.37701  0.92459  96440   \n",
      "73541  78573 2020-10-27 23:59:59.969697  0.07898  0.37617  0.92285  96441   \n",
      "73542  78574 2020-10-28 00:00:00.000000  0.07784  0.37563  0.92216  96442   \n",
      "\n",
      "                              ts     ch_x     ch_y     ch_z     id  \\\n",
      "0     2020-10-27 07:59:58.000000 -0.01159  0.38642  0.92534  19801   \n",
      "1     2020-10-27 07:59:58.030303 -0.01515  0.38494  0.92676  19802   \n",
      "2     2020-10-27 07:59:58.060606 -0.01255  0.38599  0.92496  19803   \n",
      "3     2020-10-27 07:59:58.090909 -0.01159  0.38546  0.92211  19804   \n",
      "4     2020-10-27 07:59:58.121212 -0.01411  0.38607  0.92256  19805   \n",
      "...                          ...      ...      ...      ...    ...   \n",
      "73538 2020-10-27 23:59:59.878788 -0.01272  0.38625  0.92391  98095   \n",
      "73539 2020-10-27 23:59:59.909091 -0.01333  0.38642  0.92384  98096   \n",
      "73540 2020-10-27 23:59:59.939394 -0.01350  0.38564  0.92354  98097   \n",
      "73541 2020-10-27 23:59:59.969697 -0.01289  0.38685  0.92406  98098   \n",
      "73542 2020-10-28 00:00:00.000000 -0.01376  0.38546  0.92369  98099   \n",
      "\n",
      "                              ts      ch_x     ch_y  \n",
      "0     2020-10-27 07:59:58.000000 -0.804494  17.7979  \n",
      "1     2020-10-27 07:59:58.030303 -0.806680  17.7967  \n",
      "2     2020-10-27 07:59:58.060606 -0.788647  17.8042  \n",
      "3     2020-10-27 07:59:58.090909 -0.812692  17.7956  \n",
      "4     2020-10-27 07:59:58.121212 -0.801762  17.7996  \n",
      "...                          ...       ...      ...  \n",
      "73538 2020-10-27 23:59:59.878788 -0.800669  17.8082  \n",
      "73539 2020-10-27 23:59:59.909091 -0.802309  17.8002  \n",
      "73540 2020-10-27 23:59:59.939394 -0.801216  17.8065  \n",
      "73541 2020-10-27 23:59:59.969697 -0.803402  17.8013  \n",
      "73542 2020-10-28 00:00:00.000000 -0.809413  17.8042  \n",
      "\n",
      "[73543 rows x 14 columns]\n"
     ]
    }
   ],
   "source": [
    "print(df)"
   ]
  }
 ],
 "metadata": {
  "kernelspec": {
   "display_name": "Python 3",
   "language": "python",
   "name": "python3"
  },
  "language_info": {
   "codemirror_mode": {
    "name": "ipython",
    "version": 3
   },
   "file_extension": ".py",
   "mimetype": "text/x-python",
   "name": "python",
   "nbconvert_exporter": "python",
   "pygments_lexer": "ipython3",
   "version": "3.8.3"
  }
 },
 "nbformat": 4,
 "nbformat_minor": 4
}
