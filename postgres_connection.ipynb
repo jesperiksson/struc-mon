{
 "cells": [
  {
   "cell_type": "code",
   "execution_count": 1,
   "metadata": {},
   "outputs": [],
   "source": [
    "import os\n",
    "import tensorflow_io as tfio\n",
    "import pandas as pd\n",
    "from sqlalchemy import create_engine\n",
    "import datetime"
   ]
  },
  {
   "cell_type": "code",
   "execution_count": 2,
   "metadata": {},
   "outputs": [
    {
     "name": "stdout",
     "output_type": "stream",
     "text": [
      "env: TFIO_GOST_DATABASE_NAME=gost\n",
      "env: TFIO_GOST_DATABASE_HOST=127.0.0.1:5050\n",
      "env: TFIO_GOST_DATABASE_PORT=5432\n",
      "env: TFIO_GOST_DATABASE_USER=postgres\n",
      "env: TFIO_GOST_DATABASE_PASS=postgres\n",
      "env: SQLA_GOST_DATABASE_NAME=gost\n",
      "env: SQLA_GOST_DATABASE_HOST=localhost\n",
      "env: SQLA_GOST_DATABASE_PORT=5432\n",
      "env: SQLA_GOST_DATABASE_USER=postgres\n",
      "env: SQLA_GOST_DATABASE_PASS=postgres\n"
     ]
    }
   ],
   "source": [
    "%env TFIO_GOST_DATABASE_NAME=gost\n",
    "%env TFIO_GOST_DATABASE_HOST=127.0.0.1:5050\n",
    "%env TFIO_GOST_DATABASE_PORT=5432\n",
    "%env TFIO_GOST_DATABASE_USER=postgres\n",
    "%env TFIO_GOST_DATABASE_PASS=postgres\n",
    "\n",
    "%env SQLA_GOST_DATABASE_NAME=gost\n",
    "%env SQLA_GOST_DATABASE_HOST=localhost\n",
    "%env SQLA_GOST_DATABASE_PORT=5432\n",
    "%env SQLA_GOST_DATABASE_USER=postgres\n",
    "%env SQLA_GOST_DATABASE_PASS=postgres"
   ]
  },
  {
   "cell_type": "code",
   "execution_count": null,
   "metadata": {},
   "outputs": [],
   "source": [
    "# TFIO connection\n",
    "endpoint=\"postgresql://{}:{}@{}?port={}&dbname={}\".format(\n",
    "    os.environ['TFIO_GOST_DATABASE_USER'],\n",
    "    os.environ['TFIO_GOST_DATABASE_PASS'],\n",
    "    os.environ['TFIO_GOST_DATABASE_HOST'],\n",
    "    os.environ['TFIO_GOST_DATABASE_PORT'],\n",
    "    os.environ['TFIO_GOST_DATABASE_NAME'],\n",
    ")"
   ]
  },
  {
   "cell_type": "code",
   "execution_count": 3,
   "metadata": {},
   "outputs": [],
   "source": [
    "# SQLAlchemy + psycopg2 connection\n",
    "sqla_endpoint =\"postgresql+psycopg2://{}:{}@{}:{}/{}\".format(\n",
    "    os.environ['SQLA_GOST_DATABASE_USER'],\n",
    "    os.environ['SQLA_GOST_DATABASE_PASS'],\n",
    "    os.environ['SQLA_GOST_DATABASE_HOST'],\n",
    "    os.environ['SQLA_GOST_DATABASE_PORT'],\n",
    "    os.environ['SQLA_GOST_DATABASE_NAME'],\n",
    ")\n",
    "engine = create_engine(sqla_endpoint)"
   ]
  },
  {
   "cell_type": "code",
   "execution_count": 4,
   "metadata": {},
   "outputs": [],
   "source": [
    "class Config():\n",
    "    def __init__(self):\n",
    "        table_names = {\n",
    "            'strain1' : 'sensor_00158d00000e0ee5',\n",
    "            'acc1' : 'sensor_00158d00000e0fe9',\n",
    "            'acc2' : 'sensor_00158d00000e054c',\n",
    "            'incl' : 'sensor_00158d00000e1024',\n",
    "            'temp' : 'sensor_00158d00000e047b',\n",
    "            'strain2': 'sensor_000000008bff436'\n",
    "        }\n",
    "        self.table_names = table_names\n",
    "        \n",
    "        self.column_names = {\n",
    "            table_names['strain1'] : ['id','ts','ch_mv0','ch_mv1','ch_mv2','ch_mv3'],\n",
    "            table_names['acc1'] : ['id','ts','ch_x','ch_y','ch_z'],\n",
    "            table_names['acc2'] : ['id','ts','ch_x','ch_y','ch_z'],\n",
    "            table_names['incl'] : ['id','ts','ch_x','ch_y'],\n",
    "            table_names['temp'] : ['id','ts','ch_temperature'],\n",
    "            table_names['strain2'] : ['id','ts','ch_mv0','ch_mv0_379']\n",
    "        }\n",
    "\n",
    "        self.schema = 'v1'        "
   ]
  },
  {
   "cell_type": "code",
   "execution_count": 5,
   "metadata": {},
   "outputs": [],
   "source": [
    "class Settings():\n",
    "    def __init__(self):\n",
    "        self.sensors = ['acc1']\n",
    "        self.n_samples = 10\n",
    "        self.start_date = datetime.datetime(2020,10,27)\n",
    "        self.end_date = datetime.datetime(2020,10,28)"
   ]
  },
  {
   "cell_type": "code",
   "execution_count": 6,
   "metadata": {},
   "outputs": [],
   "source": [
    "config = Config()\n",
    "settings = Settings()"
   ]
  },
  {
   "cell_type": "code",
   "execution_count": 7,
   "metadata": {},
   "outputs": [],
   "source": [
    "def generate_select():\n",
    "    select_command = ''\n",
    "    for sensor in settings.sensors:\n",
    "        table = config.table_names[sensor]\n",
    "        for column in config.column_names[table]:\n",
    "            select_command+=config.schema+'.'+table+'.'+column+' ,' \n",
    "    return select_command[:-1]\n",
    "\n",
    "def generate_where_id():\n",
    "    where_clause = f\"{config.schema}.{config.table_names[settings.sensors[0]]}.id < {settings.n_samples}\"\n",
    "    return where_clause\n",
    "\n",
    "def generate_where():\n",
    "    where_clause = f\"{config.schema}.{config.table_names[settings.sensors[0]]}.ts BETWEEN \\'{parse_date(settings.start_date)}\\' AND \\'{parse_date(settings.end_date)}\\' \"\n",
    "    return where_clause\n",
    "\n",
    "def generate_and():\n",
    "    and_clause = ''\n",
    "    if len(settings.sensors)>1:\n",
    "        for i in range(len(settings.sensors)-1):\n",
    "            and_clause += f\"AND {config.schema}.{config.table_names[settings.sensors[0]]}.ts = {config.schema}.{config.table_names[settings.sensors[i+1]]}.ts \"\n",
    "            # ts ensures integrity in data\n",
    "    return and_clause\n",
    "\n",
    "def parse_date(date):\n",
    "    \n",
    "    return str(date)\n",
    "\n",
    "def generate_query():\n",
    "    query = ''\n",
    "    query += f\"SELECT {generate_select()}\"\n",
    "    query += f\"FROM {config.schema}.{(', '+config.schema+'.').join([config.table_names[sensor] for sensor in settings.sensors])} \"\n",
    "    query += f\"WHERE {generate_where()}\"\n",
    "    query += generate_and()\n",
    "    return query\n",
    "\n"
   ]
  },
  {
   "cell_type": "code",
   "execution_count": null,
   "metadata": {},
   "outputs": [],
   "source": [
    "query = 'SELECT strain.ch_mv0, strain.id FROM v1.sensor_000000008bff43b6 strain WHERE strain.id < 10'"
   ]
  },
  {
   "cell_type": "code",
   "execution_count": null,
   "metadata": {},
   "outputs": [],
   "source": [
    "query =f\"SELECT v1.sensor_00158d00000e0fe9.id AS qwe,v1.sensor_00158d00000e0fe9.ts ,v1.sensor_00158d00000e0fe9.ch_x ,v1.sensor_00158d00000e0fe9.ch_y ,v1.sensor_00158d00000e0fe9.ch_z ,v1.sensor_00158d00000e054c.id ,v1.sensor_00158d00000e054c.ts ,v1.sensor_00158d00000e054c.ch_x ,v1.sensor_00158d00000e054c.ch_y ,v1.sensor_00158d00000e054c.ch_z FROM v1.sensor_00158d00000e0fe9, v1.sensor_00158d00000e054c WHERE v1.sensor_00158d00000e0fe9.id < 10 AND v1.sensor_00158d00000e0fe9.id = v1.sensor_00158d00000e054c.id \""
   ]
  },
  {
   "cell_type": "code",
   "execution_count": 8,
   "metadata": {},
   "outputs": [
    {
     "data": {
      "text/plain": [
       "\"SELECT v1.sensor_00158d00000e0fe9.id ,v1.sensor_00158d00000e0fe9.ts ,v1.sensor_00158d00000e0fe9.ch_x ,v1.sensor_00158d00000e0fe9.ch_y ,v1.sensor_00158d00000e0fe9.ch_z ,v1.sensor_00158d00000e054c.id ,v1.sensor_00158d00000e054c.ts ,v1.sensor_00158d00000e054c.ch_x ,v1.sensor_00158d00000e054c.ch_y ,v1.sensor_00158d00000e054c.ch_z ,v1.sensor_00158d00000e1024.id ,v1.sensor_00158d00000e1024.ts ,v1.sensor_00158d00000e1024.ch_x ,v1.sensor_00158d00000e1024.ch_y FROM v1.sensor_00158d00000e0fe9, v1.sensor_00158d00000e054c, v1.sensor_00158d00000e1024 WHERE v1.sensor_00158d00000e0fe9.ts BETWEEN '2020-10-27 00:00:00' AND '2020-10-28 00:00:00' AND v1.sensor_00158d00000e0fe9.ts = v1.sensor_00158d00000e054c.ts AND v1.sensor_00158d00000e0fe9.ts = v1.sensor_00158d00000e1024.ts \""
      ]
     },
     "execution_count": 8,
     "metadata": {},
     "output_type": "execute_result"
    }
   ],
   "source": [
    "generate_query()"
   ]
  },
  {
   "cell_type": "code",
   "execution_count": null,
   "metadata": {},
   "outputs": [],
   "source": [
    "dataset = tfio.experimental.IODataset.from_sql(\n",
    "    query = query,\n",
    "    endpoint = endpoint\n",
    ")\n",
    "\n",
    "print(dataset.element_spec)"
   ]
  },
  {
   "cell_type": "code",
   "execution_count": null,
   "metadata": {},
   "outputs": [],
   "source": [
    "df = pd.read_sql_table(\n",
    "    table_name = 'sensor_00158d00000e0fe9',\n",
    "    con = sqla_endpoint,\n",
    "    schema = 'v1',\n",
    "    index_col = 'id',\n",
    "    parse_dates = 'ts',\n",
    "    columns = ['ch_x','ch_y']\n",
    ")"
   ]
  },
  {
   "cell_type": "code",
   "execution_count": 8,
   "metadata": {},
   "outputs": [],
   "source": [
    "df = pd.read_sql_query(\n",
    "    sql = generate_query(),\n",
    "    con = sqla_endpoint,\n",
    "    parse_dates = 'ts'\n",
    ")"
   ]
  },
  {
   "cell_type": "code",
   "execution_count": 9,
   "metadata": {
    "scrolled": true
   },
   "outputs": [
    {
     "name": "stdout",
     "output_type": "stream",
     "text": [
      "         id                         ts     ch_x     ch_y     ch_z\n",
      "0         1 2020-10-27 07:59:54.000000  0.07814  0.37655  0.92338\n",
      "1         2 2020-10-27 07:59:54.030303  0.07776  0.37586  0.92315\n",
      "2         3 2020-10-27 07:59:54.060606  0.07829  0.37563  0.92110\n",
      "3         4 2020-10-27 07:59:54.090909  0.07837  0.37594  0.92315\n",
      "4         5 2020-10-27 07:59:54.121212  0.07723  0.37548  0.92193\n",
      "...     ...                        ...      ...      ...      ...\n",
      "78569  1676 2020-10-27 08:00:45.212124  0.07822  0.37632  0.92315\n",
      "78570  1677 2020-10-27 08:00:45.242424  0.07890  0.37609  0.92209\n",
      "78571  1678 2020-10-27 08:00:45.272728  0.07860  0.37578  0.92269\n",
      "78572  1679 2020-10-27 08:00:45.303032  0.07632  0.37601  0.92163\n",
      "78573  1680 2020-10-27 08:00:45.333336  0.07989  0.37601  0.92231\n",
      "\n",
      "[78574 rows x 5 columns]\n"
     ]
    }
   ],
   "source": [
    "print(df)"
   ]
  },
  {
   "cell_type": "code",
   "execution_count": 12,
   "metadata": {},
   "outputs": [
    {
     "data": {
      "text/plain": [
       "Index(['id', 'ts', 'ch_x', 'ch_y', 'ch_z'], dtype='object')"
      ]
     },
     "execution_count": 12,
     "metadata": {},
     "output_type": "execute_result"
    }
   ],
   "source": []
  },
  {
   "cell_type": "code",
   "execution_count": 15,
   "metadata": {},
   "outputs": [
    {
     "data": {
      "text/html": [
       "<div>\n",
       "<style scoped>\n",
       "    .dataframe tbody tr th:only-of-type {\n",
       "        vertical-align: middle;\n",
       "    }\n",
       "\n",
       "    .dataframe tbody tr th {\n",
       "        vertical-align: top;\n",
       "    }\n",
       "\n",
       "    .dataframe thead th {\n",
       "        text-align: right;\n",
       "    }\n",
       "</style>\n",
       "<table border=\"1\" class=\"dataframe\">\n",
       "  <thead>\n",
       "    <tr style=\"text-align: right;\">\n",
       "      <th></th>\n",
       "      <th>ch_x</th>\n",
       "      <th>ch_y</th>\n",
       "      <th>ch_z</th>\n",
       "    </tr>\n",
       "  </thead>\n",
       "  <tbody>\n",
       "    <tr>\n",
       "      <th>0</th>\n",
       "      <td>-0.419387</td>\n",
       "      <td>1.109379</td>\n",
       "      <td>0.816462</td>\n",
       "    </tr>\n",
       "    <tr>\n",
       "      <th>1</th>\n",
       "      <td>-0.820978</td>\n",
       "      <td>-0.116081</td>\n",
       "      <td>0.579957</td>\n",
       "    </tr>\n",
       "    <tr>\n",
       "      <th>2</th>\n",
       "      <td>-0.260864</td>\n",
       "      <td>-0.524568</td>\n",
       "      <td>-1.528027</td>\n",
       "    </tr>\n",
       "    <tr>\n",
       "      <th>3</th>\n",
       "      <td>-0.176318</td>\n",
       "      <td>0.026001</td>\n",
       "      <td>0.579957</td>\n",
       "    </tr>\n",
       "    <tr>\n",
       "      <th>4</th>\n",
       "      <td>-1.381092</td>\n",
       "      <td>-0.790972</td>\n",
       "      <td>-0.674551</td>\n",
       "    </tr>\n",
       "    <tr>\n",
       "      <th>...</th>\n",
       "      <td>...</td>\n",
       "      <td>...</td>\n",
       "      <td>...</td>\n",
       "    </tr>\n",
       "    <tr>\n",
       "      <th>78569</th>\n",
       "      <td>-0.334841</td>\n",
       "      <td>0.700892</td>\n",
       "      <td>0.579957</td>\n",
       "    </tr>\n",
       "    <tr>\n",
       "      <th>78570</th>\n",
       "      <td>0.383795</td>\n",
       "      <td>0.292405</td>\n",
       "      <td>-0.510025</td>\n",
       "    </tr>\n",
       "    <tr>\n",
       "      <th>78571</th>\n",
       "      <td>0.066750</td>\n",
       "      <td>-0.258163</td>\n",
       "      <td>0.106946</td>\n",
       "    </tr>\n",
       "    <tr>\n",
       "      <th>78572</th>\n",
       "      <td>-2.342796</td>\n",
       "      <td>0.150323</td>\n",
       "      <td>-0.983036</td>\n",
       "    </tr>\n",
       "    <tr>\n",
       "      <th>78573</th>\n",
       "      <td>1.430046</td>\n",
       "      <td>0.150323</td>\n",
       "      <td>-0.283803</td>\n",
       "    </tr>\n",
       "  </tbody>\n",
       "</table>\n",
       "<p>78574 rows × 3 columns</p>\n",
       "</div>"
      ],
      "text/plain": [
       "           ch_x      ch_y      ch_z\n",
       "0     -0.419387  1.109379  0.816462\n",
       "1     -0.820978 -0.116081  0.579957\n",
       "2     -0.260864 -0.524568 -1.528027\n",
       "3     -0.176318  0.026001  0.579957\n",
       "4     -1.381092 -0.790972 -0.674551\n",
       "...         ...       ...       ...\n",
       "78569 -0.334841  0.700892  0.579957\n",
       "78570  0.383795  0.292405 -0.510025\n",
       "78571  0.066750 -0.258163  0.106946\n",
       "78572 -2.342796  0.150323 -0.983036\n",
       "78573  1.430046  0.150323 -0.283803\n",
       "\n",
       "[78574 rows x 3 columns]"
      ]
     },
     "execution_count": 15,
     "metadata": {},
     "output_type": "execute_result"
    }
   ],
   "source": [
    "normalized_df=(df.drop(['id','ts'],axis=1)-df.drop(['id','ts'],axis=1).mean())/df.drop(['id','ts'],axis=1).std()\n",
    "normalized_df"
   ]
  },
  {
   "cell_type": "code",
   "execution_count": 23,
   "metadata": {},
   "outputs": [
    {
     "data": {
      "text/plain": [
       "78574"
      ]
     },
     "execution_count": 23,
     "metadata": {},
     "output_type": "execute_result"
    }
   ],
   "source": [
    "normalized_df=(df.drop(['id','ts'],axis=1)-df.drop(['id','ts'],axis=1).min())/(df.drop(['id','ts'],axis=1).max()-df.drop(['id','ts'],axis=1).min())\n",
    "len(normalized_df)\n"
   ]
  },
  {
   "cell_type": "code",
   "execution_count": null,
   "metadata": {},
   "outputs": [],
   "source": []
  }
 ],
 "metadata": {
  "kernelspec": {
   "display_name": "Python 3",
   "language": "python",
   "name": "python3"
  },
  "language_info": {
   "codemirror_mode": {
    "name": "ipython",
    "version": 3
   },
   "file_extension": ".py",
   "mimetype": "text/x-python",
   "name": "python",
   "nbconvert_exporter": "python",
   "pygments_lexer": "ipython3",
   "version": "3.8.3"
  }
 },
 "nbformat": 4,
 "nbformat_minor": 4
}
